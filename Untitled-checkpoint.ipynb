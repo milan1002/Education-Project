{
 "cells": [
  {
   "cell_type": "markdown",
   "id": "79b5abc1",
   "metadata": {},
   "source": [
    "\n",
    "# Assignment 3\n",
    "\n",
    "\n",
    "  Milan Patel\n",
    "  \n",
    "  __25/02/2023__\n",
    "  \n",
    "  **Exercise 1**\n",
    "\n"
   ]
  },
  {
   "cell_type": "code",
   "execution_count": 1,
   "id": "91e33a2a",
   "metadata": {},
   "outputs": [
    {
     "data": {
      "text/plain": [
       "14"
      ]
     },
     "execution_count": 1,
     "metadata": {},
     "output_type": "execute_result"
    }
   ],
   "source": [
    "X=lambda num1,num2: num1*num2\n",
    "\n",
    "X(7,2)"
   ]
  },
  {
   "cell_type": "markdown",
   "id": "cc724240",
   "metadata": {},
   "source": [
    " **Exercise 2**"
   ]
  },
  {
   "cell_type": "code",
   "execution_count": 22,
   "id": "7055f461",
   "metadata": {},
   "outputs": [
    {
     "name": "stdout",
     "output_type": "stream",
     "text": [
      "Please enter the radius of the given circle: 9\n",
      "254.46900494077323\n"
     ]
    }
   ],
   "source": [
    "import math\n",
    "\n",
    "def area_of_the_Circle (Radius):\n",
    "    area = Radius ** 2 * math.pi\n",
    "    return area\n",
    "\n",
    "Radius = float(input (\"Please enter the radius of the given circle: \"))\n",
    "print( area_of_the_Circle (Radius))"
   ]
  },
  {
   "cell_type": "markdown",
   "id": "77afc0cc",
   "metadata": {},
   "source": [
    " **Exercise 3**"
   ]
  },
  {
   "cell_type": "code",
   "execution_count": 23,
   "id": "072dd833",
   "metadata": {},
   "outputs": [
    {
     "name": "stdout",
     "output_type": "stream",
     "text": [
      "Select operation.\n",
      "1.Add\n",
      "2.Subtract\n",
      "3.Multiply\n",
      "4.Divide\n",
      "Enter choice(1/2/3/4): 1\n",
      "Enter frst number: 10\n",
      "Enter second number: 9\n",
      "19.0\n"
     ]
    }
   ],
   "source": [
    "def add(x, y):\n",
    "    return x + y\n",
    "\n",
    "def subtract(x, y):\n",
    "    return x - y\n",
    "\n",
    "def multiply(x, y):\n",
    "    return x * y\n",
    "\n",
    "def divide(x, y):\n",
    "    return x / y\n",
    "\n",
    "\n",
    "print(\"Select operation.\")\n",
    "print(\"1.Add\")\n",
    "print(\"2.Subtract\")\n",
    "print(\"3.Multiply\")\n",
    "print(\"4.Divide\")\n",
    "\n",
    "while True:\n",
    "    choice = input(\"Enter choice(1/2/3/4): \")\n",
    "    \n",
    "    if choice in ('1', '2', '3', '4'):\n",
    "        try:\n",
    "            num1 = float(input(\"Enter frst number: \"))\n",
    "            num2 = float(input(\"Enter second number: \"))\n",
    "        except ValueError:\n",
    "            print(\"Invalid input. Please enter a number.\")\n",
    "            continue\n",
    "            \n",
    "        if choice == '1':\n",
    "            print( add(num1, num2))\n",
    "            \n",
    "        elif choice == '2':\n",
    "            print( subtract(num1, num2))\n",
    "            \n",
    "        elif choice == '3':\n",
    "            print( multiply(num1, num2))\n",
    "            \n",
    "        elif choice == '4':\n",
    "            print( divide(num1, num2))\n",
    "            \n",
    "            \n",
    "        break"
   ]
  },
  {
   "cell_type": "markdown",
   "id": "92ee9ca6",
   "metadata": {},
   "source": [
    " **Exercise 4**"
   ]
  },
  {
   "cell_type": "code",
   "execution_count": 25,
   "id": "06d5bf94",
   "metadata": {},
   "outputs": [
    {
     "name": "stdout",
     "output_type": "stream",
     "text": [
      "100\n"
     ]
    }
   ],
   "source": [
    "class Rectangle():\n",
    "    def __init__(self, lenght , width ):\n",
    "        self.lenght = lenght\n",
    "        self.width = width\n",
    "        \n",
    "    def rectangle_area(self):\n",
    "        return self.lenght*self.width\n",
    "    \n",
    "newRectangle = Rectangle(5,20)\n",
    "print(newRectangle.rectangle_area())"
   ]
  },
  {
   "cell_type": "markdown",
   "id": "f11c0eed",
   "metadata": {},
   "source": [
    " **Exercise 5**"
   ]
  },
  {
   "cell_type": "code",
   "execution_count": 27,
   "id": "260d51bc",
   "metadata": {},
   "outputs": [
    {
     "name": "stdout",
     "output_type": "stream",
     "text": [
      "The area is:  16\n",
      "The is a:  Square\n"
     ]
    }
   ],
   "source": [
    "class shape():\n",
    "    def __init__(self, name, length):\n",
    "        self.name = name\n",
    "        self.length = length\n",
    "    def area(self):\n",
    "        area=0\n",
    "        return area\n",
    "    \n",
    "class Square(shape):\n",
    "    def __init__(self, name, length):\n",
    "        self.name = name\n",
    "        self.length = length\n",
    "    def area(self):\n",
    "        return self.length*self.length\n",
    "    def describe(self):\n",
    "        return self.name\n",
    "s=Square('Square',4)\n",
    "print(\"The area is: \",s.area())\n",
    "print(\"The is a: \",s.describe())"
   ]
  }
 ],
 "metadata": {
  "kernelspec": {
   "display_name": "Python 3 (ipykernel)",
   "language": "python",
   "name": "python3"
  },
  "language_info": {
   "codemirror_mode": {
    "name": "ipython",
    "version": 3
   },
   "file_extension": ".py",
   "mimetype": "text/x-python",
   "name": "python",
   "nbconvert_exporter": "python",
   "pygments_lexer": "ipython3",
   "version": "3.10.8"
  }
 },
 "nbformat": 4,
 "nbformat_minor": 5
}
